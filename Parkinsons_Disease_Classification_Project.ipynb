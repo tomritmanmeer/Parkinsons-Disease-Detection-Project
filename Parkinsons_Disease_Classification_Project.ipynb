{
  "nbformat": 4,
  "nbformat_minor": 0,
  "metadata": {
    "colab": {
      "provenance": [],
      "collapsed_sections": []
    },
    "kernelspec": {
      "name": "python3",
      "display_name": "Python 3"
    },
    "language_info": {
      "name": "python"
    }
  },
  "cells": [
    {
      "cell_type": "markdown",
      "source": [
        "# Parkinson's Disease Detection Project\n",
        "### Tom Ritman-Meer using Google Colaboratory\n",
        "In this notebook I investigate a labelled data set with 22 patient feature variables and a single column indicating the status of the Parkinson's Disease diagnosis, 1 indicating the presence of the disease and 0 its absence. Using a range of machine learning models I demonstrate that the presence of Parkinson's Disease can be predicted extremely accurately using the feature variables, suggesting that machine learning could be a valuable diagnostic tool to aid clinicians in their diagnosis of this disease."
      ],
      "metadata": {
        "id": "W7Wil0VDtafR"
      }
    },
    {
      "cell_type": "markdown",
      "source": [
        "### Retrieve data set from kaggle.com"
      ],
      "metadata": {
        "id": "N7jQ2qX37JGa"
      }
    },
    {
      "cell_type": "code",
      "source": [
        "! pip install kaggle\n",
        "! mkdir ~/.kaggle\n",
        "! cp kaggle.json ~/.kaggle/\n",
        "! chmod 600 ~/.kaggle/kaggle.json\n",
        "! kaggle datasets download -d debasisdotcom/parkinson-disease-detection"
      ],
      "metadata": {
        "id": "_mzXx-yDtWY7"
      },
      "execution_count": null,
      "outputs": []
    },
    {
      "cell_type": "code",
      "source": [
        "! unzip parkinson-disease-detection.zip"
      ],
      "metadata": {
        "colab": {
          "base_uri": "https://localhost:8080/"
        },
        "id": "ED983llU3-kx",
        "outputId": "1617f686-8364-4fea-947d-a97be5d9388b"
      },
      "execution_count": 8,
      "outputs": [
        {
          "output_type": "stream",
          "name": "stdout",
          "text": [
            "Archive:  parkinson-disease-detection.zip\n",
            "  inflating: Parkinsson disease.csv  \n"
          ]
        }
      ]
    },
    {
      "cell_type": "code",
      "source": [
        "import pandas as pd\n",
        "import numpy as np\n",
        "import matplotlib.pyplot as plt\n",
        "import seaborn as sns"
      ],
      "metadata": {
        "id": "o5Y7L2ZR4OHU"
      },
      "execution_count": 9,
      "outputs": []
    },
    {
      "cell_type": "code",
      "source": [
        "data = pd.read_csv(\"Parkinsson disease.csv\")  "
      ],
      "metadata": {
        "id": "LyQAg9bc4ng8"
      },
      "execution_count": 10,
      "outputs": []
    },
    {
      "cell_type": "code",
      "source": [
        "data.head()"
      ],
      "metadata": {
        "colab": {
          "base_uri": "https://localhost:8080/",
          "height": 300
        },
        "id": "-jVME5rh4xOh",
        "outputId": "58e42364-a1e6-4f24-9f0b-d1bce379f410"
      },
      "execution_count": 11,
      "outputs": [
        {
          "output_type": "execute_result",
          "data": {
            "text/plain": [
              "             name  MDVP:Fo(Hz)  MDVP:Fhi(Hz)  MDVP:Flo(Hz)  MDVP:Jitter(%)  \\\n",
              "0  phon_R01_S01_1      119.992       157.302        74.997         0.00784   \n",
              "1  phon_R01_S01_2      122.400       148.650       113.819         0.00968   \n",
              "2  phon_R01_S01_3      116.682       131.111       111.555         0.01050   \n",
              "3  phon_R01_S01_4      116.676       137.871       111.366         0.00997   \n",
              "4  phon_R01_S01_5      116.014       141.781       110.655         0.01284   \n",
              "\n",
              "   MDVP:Jitter(Abs)  MDVP:RAP  MDVP:PPQ  Jitter:DDP  MDVP:Shimmer  ...  \\\n",
              "0           0.00007   0.00370   0.00554     0.01109       0.04374  ...   \n",
              "1           0.00008   0.00465   0.00696     0.01394       0.06134  ...   \n",
              "2           0.00009   0.00544   0.00781     0.01633       0.05233  ...   \n",
              "3           0.00009   0.00502   0.00698     0.01505       0.05492  ...   \n",
              "4           0.00011   0.00655   0.00908     0.01966       0.06425  ...   \n",
              "\n",
              "   Shimmer:DDA      NHR     HNR  status      RPDE       DFA   spread1  \\\n",
              "0      0.06545  0.02211  21.033       1  0.414783  0.815285 -4.813031   \n",
              "1      0.09403  0.01929  19.085       1  0.458359  0.819521 -4.075192   \n",
              "2      0.08270  0.01309  20.651       1  0.429895  0.825288 -4.443179   \n",
              "3      0.08771  0.01353  20.644       1  0.434969  0.819235 -4.117501   \n",
              "4      0.10470  0.01767  19.649       1  0.417356  0.823484 -3.747787   \n",
              "\n",
              "    spread2        D2       PPE  \n",
              "0  0.266482  2.301442  0.284654  \n",
              "1  0.335590  2.486855  0.368674  \n",
              "2  0.311173  2.342259  0.332634  \n",
              "3  0.334147  2.405554  0.368975  \n",
              "4  0.234513  2.332180  0.410335  \n",
              "\n",
              "[5 rows x 24 columns]"
            ],
            "text/html": [
              "\n",
              "  <div id=\"df-417e072c-c5c1-42a5-acdc-1d1b444f4490\">\n",
              "    <div class=\"colab-df-container\">\n",
              "      <div>\n",
              "<style scoped>\n",
              "    .dataframe tbody tr th:only-of-type {\n",
              "        vertical-align: middle;\n",
              "    }\n",
              "\n",
              "    .dataframe tbody tr th {\n",
              "        vertical-align: top;\n",
              "    }\n",
              "\n",
              "    .dataframe thead th {\n",
              "        text-align: right;\n",
              "    }\n",
              "</style>\n",
              "<table border=\"1\" class=\"dataframe\">\n",
              "  <thead>\n",
              "    <tr style=\"text-align: right;\">\n",
              "      <th></th>\n",
              "      <th>name</th>\n",
              "      <th>MDVP:Fo(Hz)</th>\n",
              "      <th>MDVP:Fhi(Hz)</th>\n",
              "      <th>MDVP:Flo(Hz)</th>\n",
              "      <th>MDVP:Jitter(%)</th>\n",
              "      <th>MDVP:Jitter(Abs)</th>\n",
              "      <th>MDVP:RAP</th>\n",
              "      <th>MDVP:PPQ</th>\n",
              "      <th>Jitter:DDP</th>\n",
              "      <th>MDVP:Shimmer</th>\n",
              "      <th>...</th>\n",
              "      <th>Shimmer:DDA</th>\n",
              "      <th>NHR</th>\n",
              "      <th>HNR</th>\n",
              "      <th>status</th>\n",
              "      <th>RPDE</th>\n",
              "      <th>DFA</th>\n",
              "      <th>spread1</th>\n",
              "      <th>spread2</th>\n",
              "      <th>D2</th>\n",
              "      <th>PPE</th>\n",
              "    </tr>\n",
              "  </thead>\n",
              "  <tbody>\n",
              "    <tr>\n",
              "      <th>0</th>\n",
              "      <td>phon_R01_S01_1</td>\n",
              "      <td>119.992</td>\n",
              "      <td>157.302</td>\n",
              "      <td>74.997</td>\n",
              "      <td>0.00784</td>\n",
              "      <td>0.00007</td>\n",
              "      <td>0.00370</td>\n",
              "      <td>0.00554</td>\n",
              "      <td>0.01109</td>\n",
              "      <td>0.04374</td>\n",
              "      <td>...</td>\n",
              "      <td>0.06545</td>\n",
              "      <td>0.02211</td>\n",
              "      <td>21.033</td>\n",
              "      <td>1</td>\n",
              "      <td>0.414783</td>\n",
              "      <td>0.815285</td>\n",
              "      <td>-4.813031</td>\n",
              "      <td>0.266482</td>\n",
              "      <td>2.301442</td>\n",
              "      <td>0.284654</td>\n",
              "    </tr>\n",
              "    <tr>\n",
              "      <th>1</th>\n",
              "      <td>phon_R01_S01_2</td>\n",
              "      <td>122.400</td>\n",
              "      <td>148.650</td>\n",
              "      <td>113.819</td>\n",
              "      <td>0.00968</td>\n",
              "      <td>0.00008</td>\n",
              "      <td>0.00465</td>\n",
              "      <td>0.00696</td>\n",
              "      <td>0.01394</td>\n",
              "      <td>0.06134</td>\n",
              "      <td>...</td>\n",
              "      <td>0.09403</td>\n",
              "      <td>0.01929</td>\n",
              "      <td>19.085</td>\n",
              "      <td>1</td>\n",
              "      <td>0.458359</td>\n",
              "      <td>0.819521</td>\n",
              "      <td>-4.075192</td>\n",
              "      <td>0.335590</td>\n",
              "      <td>2.486855</td>\n",
              "      <td>0.368674</td>\n",
              "    </tr>\n",
              "    <tr>\n",
              "      <th>2</th>\n",
              "      <td>phon_R01_S01_3</td>\n",
              "      <td>116.682</td>\n",
              "      <td>131.111</td>\n",
              "      <td>111.555</td>\n",
              "      <td>0.01050</td>\n",
              "      <td>0.00009</td>\n",
              "      <td>0.00544</td>\n",
              "      <td>0.00781</td>\n",
              "      <td>0.01633</td>\n",
              "      <td>0.05233</td>\n",
              "      <td>...</td>\n",
              "      <td>0.08270</td>\n",
              "      <td>0.01309</td>\n",
              "      <td>20.651</td>\n",
              "      <td>1</td>\n",
              "      <td>0.429895</td>\n",
              "      <td>0.825288</td>\n",
              "      <td>-4.443179</td>\n",
              "      <td>0.311173</td>\n",
              "      <td>2.342259</td>\n",
              "      <td>0.332634</td>\n",
              "    </tr>\n",
              "    <tr>\n",
              "      <th>3</th>\n",
              "      <td>phon_R01_S01_4</td>\n",
              "      <td>116.676</td>\n",
              "      <td>137.871</td>\n",
              "      <td>111.366</td>\n",
              "      <td>0.00997</td>\n",
              "      <td>0.00009</td>\n",
              "      <td>0.00502</td>\n",
              "      <td>0.00698</td>\n",
              "      <td>0.01505</td>\n",
              "      <td>0.05492</td>\n",
              "      <td>...</td>\n",
              "      <td>0.08771</td>\n",
              "      <td>0.01353</td>\n",
              "      <td>20.644</td>\n",
              "      <td>1</td>\n",
              "      <td>0.434969</td>\n",
              "      <td>0.819235</td>\n",
              "      <td>-4.117501</td>\n",
              "      <td>0.334147</td>\n",
              "      <td>2.405554</td>\n",
              "      <td>0.368975</td>\n",
              "    </tr>\n",
              "    <tr>\n",
              "      <th>4</th>\n",
              "      <td>phon_R01_S01_5</td>\n",
              "      <td>116.014</td>\n",
              "      <td>141.781</td>\n",
              "      <td>110.655</td>\n",
              "      <td>0.01284</td>\n",
              "      <td>0.00011</td>\n",
              "      <td>0.00655</td>\n",
              "      <td>0.00908</td>\n",
              "      <td>0.01966</td>\n",
              "      <td>0.06425</td>\n",
              "      <td>...</td>\n",
              "      <td>0.10470</td>\n",
              "      <td>0.01767</td>\n",
              "      <td>19.649</td>\n",
              "      <td>1</td>\n",
              "      <td>0.417356</td>\n",
              "      <td>0.823484</td>\n",
              "      <td>-3.747787</td>\n",
              "      <td>0.234513</td>\n",
              "      <td>2.332180</td>\n",
              "      <td>0.410335</td>\n",
              "    </tr>\n",
              "  </tbody>\n",
              "</table>\n",
              "<p>5 rows × 24 columns</p>\n",
              "</div>\n",
              "      <button class=\"colab-df-convert\" onclick=\"convertToInteractive('df-417e072c-c5c1-42a5-acdc-1d1b444f4490')\"\n",
              "              title=\"Convert this dataframe to an interactive table.\"\n",
              "              style=\"display:none;\">\n",
              "        \n",
              "  <svg xmlns=\"http://www.w3.org/2000/svg\" height=\"24px\"viewBox=\"0 0 24 24\"\n",
              "       width=\"24px\">\n",
              "    <path d=\"M0 0h24v24H0V0z\" fill=\"none\"/>\n",
              "    <path d=\"M18.56 5.44l.94 2.06.94-2.06 2.06-.94-2.06-.94-.94-2.06-.94 2.06-2.06.94zm-11 1L8.5 8.5l.94-2.06 2.06-.94-2.06-.94L8.5 2.5l-.94 2.06-2.06.94zm10 10l.94 2.06.94-2.06 2.06-.94-2.06-.94-.94-2.06-.94 2.06-2.06.94z\"/><path d=\"M17.41 7.96l-1.37-1.37c-.4-.4-.92-.59-1.43-.59-.52 0-1.04.2-1.43.59L10.3 9.45l-7.72 7.72c-.78.78-.78 2.05 0 2.83L4 21.41c.39.39.9.59 1.41.59.51 0 1.02-.2 1.41-.59l7.78-7.78 2.81-2.81c.8-.78.8-2.07 0-2.86zM5.41 20L4 18.59l7.72-7.72 1.47 1.35L5.41 20z\"/>\n",
              "  </svg>\n",
              "      </button>\n",
              "      \n",
              "  <style>\n",
              "    .colab-df-container {\n",
              "      display:flex;\n",
              "      flex-wrap:wrap;\n",
              "      gap: 12px;\n",
              "    }\n",
              "\n",
              "    .colab-df-convert {\n",
              "      background-color: #E8F0FE;\n",
              "      border: none;\n",
              "      border-radius: 50%;\n",
              "      cursor: pointer;\n",
              "      display: none;\n",
              "      fill: #1967D2;\n",
              "      height: 32px;\n",
              "      padding: 0 0 0 0;\n",
              "      width: 32px;\n",
              "    }\n",
              "\n",
              "    .colab-df-convert:hover {\n",
              "      background-color: #E2EBFA;\n",
              "      box-shadow: 0px 1px 2px rgba(60, 64, 67, 0.3), 0px 1px 3px 1px rgba(60, 64, 67, 0.15);\n",
              "      fill: #174EA6;\n",
              "    }\n",
              "\n",
              "    [theme=dark] .colab-df-convert {\n",
              "      background-color: #3B4455;\n",
              "      fill: #D2E3FC;\n",
              "    }\n",
              "\n",
              "    [theme=dark] .colab-df-convert:hover {\n",
              "      background-color: #434B5C;\n",
              "      box-shadow: 0px 1px 3px 1px rgba(0, 0, 0, 0.15);\n",
              "      filter: drop-shadow(0px 1px 2px rgba(0, 0, 0, 0.3));\n",
              "      fill: #FFFFFF;\n",
              "    }\n",
              "  </style>\n",
              "\n",
              "      <script>\n",
              "        const buttonEl =\n",
              "          document.querySelector('#df-417e072c-c5c1-42a5-acdc-1d1b444f4490 button.colab-df-convert');\n",
              "        buttonEl.style.display =\n",
              "          google.colab.kernel.accessAllowed ? 'block' : 'none';\n",
              "\n",
              "        async function convertToInteractive(key) {\n",
              "          const element = document.querySelector('#df-417e072c-c5c1-42a5-acdc-1d1b444f4490');\n",
              "          const dataTable =\n",
              "            await google.colab.kernel.invokeFunction('convertToInteractive',\n",
              "                                                     [key], {});\n",
              "          if (!dataTable) return;\n",
              "\n",
              "          const docLinkHtml = 'Like what you see? Visit the ' +\n",
              "            '<a target=\"_blank\" href=https://colab.research.google.com/notebooks/data_table.ipynb>data table notebook</a>'\n",
              "            + ' to learn more about interactive tables.';\n",
              "          element.innerHTML = '';\n",
              "          dataTable['output_type'] = 'display_data';\n",
              "          await google.colab.output.renderOutput(dataTable, element);\n",
              "          const docLink = document.createElement('div');\n",
              "          docLink.innerHTML = docLinkHtml;\n",
              "          element.appendChild(docLink);\n",
              "        }\n",
              "      </script>\n",
              "    </div>\n",
              "  </div>\n",
              "  "
            ]
          },
          "metadata": {},
          "execution_count": 11
        }
      ]
    },
    {
      "cell_type": "markdown",
      "source": [
        "### Preliminary Data Analysis"
      ],
      "metadata": {
        "id": "Yj-fFHJC7rIt"
      }
    },
    {
      "cell_type": "code",
      "source": [
        "data.info()"
      ],
      "metadata": {
        "colab": {
          "base_uri": "https://localhost:8080/"
        },
        "id": "aIlJdtQu4yh0",
        "outputId": "515b84ba-b328-4779-b56d-4e3dda44b295"
      },
      "execution_count": 12,
      "outputs": [
        {
          "output_type": "stream",
          "name": "stdout",
          "text": [
            "<class 'pandas.core.frame.DataFrame'>\n",
            "RangeIndex: 195 entries, 0 to 194\n",
            "Data columns (total 24 columns):\n",
            " #   Column            Non-Null Count  Dtype  \n",
            "---  ------            --------------  -----  \n",
            " 0   name              195 non-null    object \n",
            " 1   MDVP:Fo(Hz)       195 non-null    float64\n",
            " 2   MDVP:Fhi(Hz)      195 non-null    float64\n",
            " 3   MDVP:Flo(Hz)      195 non-null    float64\n",
            " 4   MDVP:Jitter(%)    195 non-null    float64\n",
            " 5   MDVP:Jitter(Abs)  195 non-null    float64\n",
            " 6   MDVP:RAP          195 non-null    float64\n",
            " 7   MDVP:PPQ          195 non-null    float64\n",
            " 8   Jitter:DDP        195 non-null    float64\n",
            " 9   MDVP:Shimmer      195 non-null    float64\n",
            " 10  MDVP:Shimmer(dB)  195 non-null    float64\n",
            " 11  Shimmer:APQ3      195 non-null    float64\n",
            " 12  Shimmer:APQ5      195 non-null    float64\n",
            " 13  MDVP:APQ          195 non-null    float64\n",
            " 14  Shimmer:DDA       195 non-null    float64\n",
            " 15  NHR               195 non-null    float64\n",
            " 16  HNR               195 non-null    float64\n",
            " 17  status            195 non-null    int64  \n",
            " 18  RPDE              195 non-null    float64\n",
            " 19  DFA               195 non-null    float64\n",
            " 20  spread1           195 non-null    float64\n",
            " 21  spread2           195 non-null    float64\n",
            " 22  D2                195 non-null    float64\n",
            " 23  PPE               195 non-null    float64\n",
            "dtypes: float64(22), int64(1), object(1)\n",
            "memory usage: 36.7+ KB\n"
          ]
        }
      ]
    },
    {
      "cell_type": "code",
      "source": [
        "data = data.drop(\"name\", axis = 1)"
      ],
      "metadata": {
        "id": "Dw0vAdyzUJU9"
      },
      "execution_count": 41,
      "outputs": []
    },
    {
      "cell_type": "code",
      "source": [
        "plt.figure(figsize=(11,5))\n",
        "sns.heatmap(data.isnull(),cmap='viridis')"
      ],
      "metadata": {
        "colab": {
          "base_uri": "https://localhost:8080/",
          "height": 429
        },
        "id": "AA6mOAglOyR2",
        "outputId": "70280031-b812-4a88-e986-21393db9be63"
      },
      "execution_count": 42,
      "outputs": [
        {
          "output_type": "execute_result",
          "data": {
            "text/plain": [
              "<matplotlib.axes._subplots.AxesSubplot at 0x7fbde2d0ac10>"
            ]
          },
          "metadata": {},
          "execution_count": 42
        },
        {
          "output_type": "display_data",
          "data": {
            "text/plain": [
              "<Figure size 792x360 with 2 Axes>"
            ],
            "image/png": "[encoded data removed]"
          },
          "metadata": {
            "needs_background": "light"
          }
        }
      ]
    },
    {
      "cell_type": "code",
      "source": [
        "data.describe()"
      ],
      "metadata": {
        "id": "11Rj7Plv48su",
        "colab": {
          "base_uri": "https://localhost:8080/",
          "height": 394
        },
        "outputId": "a7662b19-03ba-44f8-db23-2ede65bc2c0a"
      },
      "execution_count": 43,
      "outputs": [
        {
          "output_type": "execute_result",
          "data": {
            "text/plain": [
              "       MDVP:Fo(Hz)  MDVP:Fhi(Hz)  MDVP:Flo(Hz)  MDVP:Jitter(%)  \\\n",
              "count   195.000000    195.000000    195.000000      195.000000   \n",
              "mean    154.228641    197.104918    116.324631        0.006220   \n",
              "std      41.390065     91.491548     43.521413        0.004848   \n",
              "min      88.333000    102.145000     65.476000        0.001680   \n",
              "25%     117.572000    134.862500     84.291000        0.003460   \n",
              "50%     148.790000    175.829000    104.315000        0.004940   \n",
              "75%     182.769000    224.205500    140.018500        0.007365   \n",
              "max     260.105000    592.030000    239.170000        0.033160   \n",
              "\n",
              "       MDVP:Jitter(Abs)    MDVP:RAP    MDVP:PPQ  Jitter:DDP  MDVP:Shimmer  \\\n",
              "count        195.000000  195.000000  195.000000  195.000000    195.000000   \n",
              "mean           0.000044    0.003306    0.003446    0.009920      0.029709   \n",
              "std            0.000035    0.002968    0.002759    0.008903      0.018857   \n",
              "min            0.000007    0.000680    0.000920    0.002040      0.009540   \n",
              "25%            0.000020    0.001660    0.001860    0.004985      0.016505   \n",
              "50%            0.000030    0.002500    0.002690    0.007490      0.022970   \n",
              "75%            0.000060    0.003835    0.003955    0.011505      0.037885   \n",
              "max            0.000260    0.021440    0.019580    0.064330      0.119080   \n",
              "\n",
              "       MDVP:Shimmer(dB)  ...  Shimmer:DDA         NHR         HNR      status  \\\n",
              "count        195.000000  ...   195.000000  195.000000  195.000000  195.000000   \n",
              "mean           0.282251  ...     0.046993    0.024847   21.885974    0.753846   \n",
              "std            0.194877  ...     0.030459    0.040418    4.425764    0.431878   \n",
              "min            0.085000  ...     0.013640    0.000650    8.441000    0.000000   \n",
              "25%            0.148500  ...     0.024735    0.005925   19.198000    1.000000   \n",
              "50%            0.221000  ...     0.038360    0.011660   22.085000    1.000000   \n",
              "75%            0.350000  ...     0.060795    0.025640   25.075500    1.000000   \n",
              "max            1.302000  ...     0.169420    0.314820   33.047000    1.000000   \n",
              "\n",
              "             RPDE         DFA     spread1     spread2          D2         PPE  \n",
              "count  195.000000  195.000000  195.000000  195.000000  195.000000  195.000000  \n",
              "mean     0.498536    0.718099   -5.684397    0.226510    2.381826    0.206552  \n",
              "std      0.103942    0.055336    1.090208    0.083406    0.382799    0.090119  \n",
              "min      0.256570    0.574282   -7.964984    0.006274    1.423287    0.044539  \n",
              "25%      0.421306    0.674758   -6.450096    0.174351    2.099125    0.137451  \n",
              "50%      0.495954    0.722254   -5.720868    0.218885    2.361532    0.194052  \n",
              "75%      0.587562    0.761881   -5.046192    0.279234    2.636456    0.252980  \n",
              "max      0.685151    0.825288   -2.434031    0.450493    3.671155    0.527367  \n",
              "\n",
              "[8 rows x 23 columns]"
            ],
            "text/html": [
              "\n",
              "  <div id=\"df-9c3ff452-5144-4123-925b-7079b6efe953\">\n",
              "    <div class=\"colab-df-container\">\n",
              "      <div>\n",
              "<style scoped>\n",
              "    .dataframe tbody tr th:only-of-type {\n",
              "        vertical-align: middle;\n",
              "    }\n",
              "\n",
              "    .dataframe tbody tr th {\n",
              "        vertical-align: top;\n",
              "    }\n",
              "\n",
              "    .dataframe thead th {\n",
              "        text-align: right;\n",
              "    }\n",
              "</style>\n",
              "<table border=\"1\" class=\"dataframe\">\n",
              "  <thead>\n",
              "    <tr style=\"text-align: right;\">\n",
              "      <th></th>\n",
              "      <th>MDVP:Fo(Hz)</th>\n",
              "      <th>MDVP:Fhi(Hz)</th>\n",
              "      <th>MDVP:Flo(Hz)</th>\n",
              "      <th>MDVP:Jitter(%)</th>\n",
              "      <th>MDVP:Jitter(Abs)</th>\n",
              "      <th>MDVP:RAP</th>\n",
              "      <th>MDVP:PPQ</th>\n",
              "      <th>Jitter:DDP</th>\n",
              "      <th>MDVP:Shimmer</th>\n",
              "      <th>MDVP:Shimmer(dB)</th>\n",
              "      <th>...</th>\n",
              "      <th>Shimmer:DDA</th>\n",
              "      <th>NHR</th>\n",
              "      <th>HNR</th>\n",
              "      <th>status</th>\n",
              "      <th>RPDE</th>\n",
              "      <th>DFA</th>\n",
              "      <th>spread1</th>\n",
              "      <th>spread2</th>\n",
              "      <th>D2</th>\n",
              "      <th>PPE</th>\n",
              "    </tr>\n",
              "  </thead>\n",
              "  <tbody>\n",
              "    <tr>\n",
              "      <th>count</th>\n",
              "      <td>195.000000</td>\n",
              "      <td>195.000000</td>\n",
              "      <td>195.000000</td>\n",
              "      <td>195.000000</td>\n",
              "      <td>195.000000</td>\n",
              "      <td>195.000000</td>\n",
              "      <td>195.000000</td>\n",
              "      <td>195.000000</td>\n",
              "      <td>195.000000</td>\n",
              "      <td>195.000000</td>\n",
              "      <td>...</td>\n",
              "      <td>195.000000</td>\n",
              "      <td>195.000000</td>\n",
              "      <td>195.000000</td>\n",
              "      <td>195.000000</td>\n",
              "      <td>195.000000</td>\n",
              "      <td>195.000000</td>\n",
              "      <td>195.000000</td>\n",
              "      <td>195.000000</td>\n",
              "      <td>195.000000</td>\n",
              "      <td>195.000000</td>\n",
              "    </tr>\n",
              "    <tr>\n",
              "      <th>mean</th>\n",
              "      <td>154.228641</td>\n",
              "      <td>197.104918</td>\n",
              "      <td>116.324631</td>\n",
              "      <td>0.006220</td>\n",
              "      <td>0.000044</td>\n",
              "      <td>0.003306</td>\n",
              "      <td>0.003446</td>\n",
              "      <td>0.009920</td>\n",
              "      <td>0.029709</td>\n",
              "      <td>0.282251</td>\n",
              "      <td>...</td>\n",
              "      <td>0.046993</td>\n",
              "      <td>0.024847</td>\n",
              "      <td>21.885974</td>\n",
              "      <td>0.753846</td>\n",
              "      <td>0.498536</td>\n",
              "      <td>0.718099</td>\n",
              "      <td>-5.684397</td>\n",
              "      <td>0.226510</td>\n",
              "      <td>2.381826</td>\n",
              "      <td>0.206552</td>\n",
              "    </tr>\n",
              "    <tr>\n",
              "      <th>std</th>\n",
              "      <td>41.390065</td>\n",
              "      <td>91.491548</td>\n",
              "      <td>43.521413</td>\n",
              "      <td>0.004848</td>\n",
              "      <td>0.000035</td>\n",
              "      <td>0.002968</td>\n",
              "      <td>0.002759</td>\n",
              "      <td>0.008903</td>\n",
              "      <td>0.018857</td>\n",
              "      <td>0.194877</td>\n",
              "      <td>...</td>\n",
              "      <td>0.030459</td>\n",
              "      <td>0.040418</td>\n",
              "      <td>4.425764</td>\n",
              "      <td>0.431878</td>\n",
              "      <td>0.103942</td>\n",
              "      <td>0.055336</td>\n",
              "      <td>1.090208</td>\n",
              "      <td>0.083406</td>\n",
              "      <td>0.382799</td>\n",
              "      <td>0.090119</td>\n",
              "    </tr>\n",
              "    <tr>\n",
              "      <th>min</th>\n",
              "      <td>88.333000</td>\n",
              "      <td>102.145000</td>\n",
              "      <td>65.476000</td>\n",
              "      <td>0.001680</td>\n",
              "      <td>0.000007</td>\n",
              "      <td>0.000680</td>\n",
              "      <td>0.000920</td>\n",
              "      <td>0.002040</td>\n",
              "      <td>0.009540</td>\n",
              "      <td>0.085000</td>\n",
              "      <td>...</td>\n",
              "      <td>0.013640</td>\n",
              "      <td>0.000650</td>\n",
              "      <td>8.441000</td>\n",
              "      <td>0.000000</td>\n",
              "      <td>0.256570</td>\n",
              "      <td>0.574282</td>\n",
              "      <td>-7.964984</td>\n",
              "      <td>0.006274</td>\n",
              "      <td>1.423287</td>\n",
              "      <td>0.044539</td>\n",
              "    </tr>\n",
              "    <tr>\n",
              "      <th>25%</th>\n",
              "      <td>117.572000</td>\n",
              "      <td>134.862500</td>\n",
              "      <td>84.291000</td>\n",
              "      <td>0.003460</td>\n",
              "      <td>0.000020</td>\n",
              "      <td>0.001660</td>\n",
              "      <td>0.001860</td>\n",
              "      <td>0.004985</td>\n",
              "      <td>0.016505</td>\n",
              "      <td>0.148500</td>\n",
              "      <td>...</td>\n",
              "      <td>0.024735</td>\n",
              "      <td>0.005925</td>\n",
              "      <td>19.198000</td>\n",
              "      <td>1.000000</td>\n",
              "      <td>0.421306</td>\n",
              "      <td>0.674758</td>\n",
              "      <td>-6.450096</td>\n",
              "      <td>0.174351</td>\n",
              "      <td>2.099125</td>\n",
              "      <td>0.137451</td>\n",
              "    </tr>\n",
              "    <tr>\n",
              "      <th>50%</th>\n",
              "      <td>148.790000</td>\n",
              "      <td>175.829000</td>\n",
              "      <td>104.315000</td>\n",
              "      <td>0.004940</td>\n",
              "      <td>0.000030</td>\n",
              "      <td>0.002500</td>\n",
              "      <td>0.002690</td>\n",
              "      <td>0.007490</td>\n",
              "      <td>0.022970</td>\n",
              "      <td>0.221000</td>\n",
              "      <td>...</td>\n",
              "      <td>0.038360</td>\n",
              "      <td>0.011660</td>\n",
              "      <td>22.085000</td>\n",
              "      <td>1.000000</td>\n",
              "      <td>0.495954</td>\n",
              "      <td>0.722254</td>\n",
              "      <td>-5.720868</td>\n",
              "      <td>0.218885</td>\n",
              "      <td>2.361532</td>\n",
              "      <td>0.194052</td>\n",
              "    </tr>\n",
              "    <tr>\n",
              "      <th>75%</th>\n",
              "      <td>182.769000</td>\n",
              "      <td>224.205500</td>\n",
              "      <td>140.018500</td>\n",
              "      <td>0.007365</td>\n",
              "      <td>0.000060</td>\n",
              "      <td>0.003835</td>\n",
              "      <td>0.003955</td>\n",
              "      <td>0.011505</td>\n",
              "      <td>0.037885</td>\n",
              "      <td>0.350000</td>\n",
              "      <td>...</td>\n",
              "      <td>0.060795</td>\n",
              "      <td>0.025640</td>\n",
              "      <td>25.075500</td>\n",
              "      <td>1.000000</td>\n",
              "      <td>0.587562</td>\n",
              "      <td>0.761881</td>\n",
              "      <td>-5.046192</td>\n",
              "      <td>0.279234</td>\n",
              "      <td>2.636456</td>\n",
              "      <td>0.252980</td>\n",
              "    </tr>\n",
              "    <tr>\n",
              "      <th>max</th>\n",
              "      <td>260.105000</td>\n",
              "      <td>592.030000</td>\n",
              "      <td>239.170000</td>\n",
              "      <td>0.033160</td>\n",
              "      <td>0.000260</td>\n",
              "      <td>0.021440</td>\n",
              "      <td>0.019580</td>\n",
              "      <td>0.064330</td>\n",
              "      <td>0.119080</td>\n",
              "      <td>1.302000</td>\n",
              "      <td>...</td>\n",
              "      <td>0.169420</td>\n",
              "      <td>0.314820</td>\n",
              "      <td>33.047000</td>\n",
              "      <td>1.000000</td>\n",
              "      <td>0.685151</td>\n",
              "      <td>0.825288</td>\n",
              "      <td>-2.434031</td>\n",
              "      <td>0.450493</td>\n",
              "      <td>3.671155</td>\n",
              "      <td>0.527367</td>\n",
              "    </tr>\n",
              "  </tbody>\n",
              "</table>\n",
              "<p>8 rows × 23 columns</p>\n",
              "</div>\n",
              "      <button class=\"colab-df-convert\" onclick=\"convertToInteractive('df-9c3ff452-5144-4123-925b-7079b6efe953')\"\n",
              "              title=\"Convert this dataframe to an interactive table.\"\n",
              "              style=\"display:none;\">\n",
              "        \n",
              "  <svg xmlns=\"http://www.w3.org/2000/svg\" height=\"24px\"viewBox=\"0 0 24 24\"\n",
              "       width=\"24px\">\n",
              "    <path d=\"M0 0h24v24H0V0z\" fill=\"none\"/>\n",
              "    <path d=\"M18.56 5.44l.94 2.06.94-2.06 2.06-.94-2.06-.94-.94-2.06-.94 2.06-2.06.94zm-11 1L8.5 8.5l.94-2.06 2.06-.94-2.06-.94L8.5 2.5l-.94 2.06-2.06.94zm10 10l.94 2.06.94-2.06 2.06-.94-2.06-.94-.94-2.06-.94 2.06-2.06.94z\"/><path d=\"M17.41 7.96l-1.37-1.37c-.4-.4-.92-.59-1.43-.59-.52 0-1.04.2-1.43.59L10.3 9.45l-7.72 7.72c-.78.78-.78 2.05 0 2.83L4 21.41c.39.39.9.59 1.41.59.51 0 1.02-.2 1.41-.59l7.78-7.78 2.81-2.81c.8-.78.8-2.07 0-2.86zM5.41 20L4 18.59l7.72-7.72 1.47 1.35L5.41 20z\"/>\n",
              "  </svg>\n",
              "      </button>\n",
              "      \n",
              "  <style>\n",
              "    .colab-df-container {\n",
              "      display:flex;\n",
              "      flex-wrap:wrap;\n",
              "      gap: 12px;\n",
              "    }\n",
              "\n",
              "    .colab-df-convert {\n",
              "      background-color: #E8F0FE;\n",
              "      border: none;\n",
              "      border-radius: 50%;\n",
              "      cursor: pointer;\n",
              "      display: none;\n",
              "      fill: #1967D2;\n",
              "      height: 32px;\n",
              "      padding: 0 0 0 0;\n",
              "      width: 32px;\n",
              "    }\n",
              "\n",
              "    .colab-df-convert:hover {\n",
              "      background-color: #E2EBFA;\n",
              "      box-shadow: 0px 1px 2px rgba(60, 64, 67, 0.3), 0px 1px 3px 1px rgba(60, 64, 67, 0.15);\n",
              "      fill: #174EA6;\n",
              "    }\n",
              "\n",
              "    [theme=dark] .colab-df-convert {\n",
              "      background-color: #3B4455;\n",
              "      fill: #D2E3FC;\n",
              "    }\n",
              "\n",
              "    [theme=dark] .colab-df-convert:hover {\n",
              "      background-color: #434B5C;\n",
              "      box-shadow: 0px 1px 3px 1px rgba(0, 0, 0, 0.15);\n",
              "      filter: drop-shadow(0px 1px 2px rgba(0, 0, 0, 0.3));\n",
              "      fill: #FFFFFF;\n",
              "    }\n",
              "  </style>\n",
              "\n",
              "      <script>\n",
              "        const buttonEl =\n",
              "          document.querySelector('#df-9c3ff452-5144-4123-925b-7079b6efe953 button.colab-df-convert');\n",
              "        buttonEl.style.display =\n",
              "          google.colab.kernel.accessAllowed ? 'block' : 'none';\n",
              "\n",
              "        async function convertToInteractive(key) {\n",
              "          const element = document.querySelector('#df-9c3ff452-5144-4123-925b-7079b6efe953');\n",
              "          const dataTable =\n",
              "            await google.colab.kernel.invokeFunction('convertToInteractive',\n",
              "                                                     [key], {});\n",
              "          if (!dataTable) return;\n",
              "\n",
              "          const docLinkHtml = 'Like what you see? Visit the ' +\n",
              "            '<a target=\"_blank\" href=https://colab.research.google.com/notebooks/data_table.ipynb>data table notebook</a>'\n",
              "            + ' to learn more about interactive tables.';\n",
              "          element.innerHTML = '';\n",
              "          dataTable['output_type'] = 'display_data';\n",
              "          await google.colab.output.renderOutput(dataTable, element);\n",
              "          const docLink = document.createElement('div');\n",
              "          docLink.innerHTML = docLinkHtml;\n",
              "          element.appendChild(docLink);\n",
              "        }\n",
              "      </script>\n",
              "    </div>\n",
              "  </div>\n",
              "  "
            ]
          },
          "metadata": {},
          "execution_count": 43
        }
      ]
    },
    {
      "cell_type": "code",
      "source": [
        "data[\"status\"].value_counts()"
      ],
      "metadata": {
        "colab": {
          "base_uri": "https://localhost:8080/"
        },
        "id": "-UiIlahAN_DU",
        "outputId": "638726ef-df78-4963-df6e-b4b39613a507"
      },
      "execution_count": 44,
      "outputs": [
        {
          "output_type": "execute_result",
          "data": {
            "text/plain": [
              "1    147\n",
              "0     48\n",
              "Name: status, dtype: int64"
            ]
          },
          "metadata": {},
          "execution_count": 44
        }
      ]
    },
    {
      "cell_type": "markdown",
      "source": [
        "Data set is fairly well balanced, with 147 positive cases and 48 negative cases."
      ],
      "metadata": {
        "id": "pUol3kq-7SWZ"
      }
    },
    {
      "cell_type": "code",
      "source": [
        "data.hist(bins=20, figsize=(12,12))"
      ],
      "metadata": {
        "colab": {
          "base_uri": "https://localhost:8080/",
          "height": 1000
        },
        "id": "UPdBSFG9OJ-6",
        "outputId": "96c960ef-26b4-4c18-c5c4-bd05c676ff15"
      },
      "execution_count": 45,
      "outputs": [
        {
          "output_type": "execute_result",
          "data": {
            "text/plain": [
              "array([[<matplotlib.axes._subplots.AxesSubplot object at 0x7fbde1d23850>,\n",
              "        <matplotlib.axes._subplots.AxesSubplot object at 0x7fbde1cdc710>,\n",
              "        <matplotlib.axes._subplots.AxesSubplot object at 0x7fbde1c8fd10>,\n",
              "        <matplotlib.axes._subplots.AxesSubplot object at 0x7fbde1c53350>,\n",
              "        <matplotlib.axes._subplots.AxesSubplot object at 0x7fbde1c0b950>],\n",
              "       [<matplotlib.axes._subplots.AxesSubplot object at 0x7fbde1bc2f50>,\n",
              "        <matplotlib.axes._subplots.AxesSubplot object at 0x7fbde1b86610>,\n",
              "        <matplotlib.axes._subplots.AxesSubplot object at 0x7fbde1b3cb50>,\n",
              "        <matplotlib.axes._subplots.AxesSubplot object at 0x7fbde1b3cb90>,\n",
              "        <matplotlib.axes._subplots.AxesSubplot object at 0x7fbde1afe2d0>],\n",
              "       [<matplotlib.axes._subplots.AxesSubplot object at 0x7fbde1aecdd0>,\n",
              "        <matplotlib.axes._subplots.AxesSubplot object at 0x7fbde1ab0410>,\n",
              "        <matplotlib.axes._subplots.AxesSubplot object at 0x7fbde1a67a10>,\n",
              "        <matplotlib.axes._subplots.AxesSubplot object at 0x7fbde1a1efd0>,\n",
              "        <matplotlib.axes._subplots.AxesSubplot object at 0x7fbde19e1650>],\n",
              "       [<matplotlib.axes._subplots.AxesSubplot object at 0x7fbde1997c50>,\n",
              "        <matplotlib.axes._subplots.AxesSubplot object at 0x7fbde195c290>,\n",
              "        <matplotlib.axes._subplots.AxesSubplot object at 0x7fbde1912890>,\n",
              "        <matplotlib.axes._subplots.AxesSubplot object at 0x7fbde18cac50>,\n",
              "        <matplotlib.axes._subplots.AxesSubplot object at 0x7fbde188d190>],\n",
              "       [<matplotlib.axes._subplots.AxesSubplot object at 0x7fbde1845690>,\n",
              "        <matplotlib.axes._subplots.AxesSubplot object at 0x7fbde17fbb90>,\n",
              "        <matplotlib.axes._subplots.AxesSubplot object at 0x7fbde17c0110>,\n",
              "        <matplotlib.axes._subplots.AxesSubplot object at 0x7fbde177a710>,\n",
              "        <matplotlib.axes._subplots.AxesSubplot object at 0x7fbde17b4b90>]],\n",
              "      dtype=object)"
            ]
          },
          "metadata": {},
          "execution_count": 45
        },
        {
          "output_type": "display_data",
          "data": {
            "text/plain": [
              "<Figure size 864x864 with 25 Axes>"
            ],
            "image/png": "[encoded data removed]"
          },
          "metadata": {
            "needs_background": "light"
          }
        }
      ]
    },
    {
      "cell_type": "code",
      "source": [
        "plt.figure(figsize=(10,6))\n",
        "sns.heatmap(data.corr(),cmap=\"viridis\")"
      ],
      "metadata": {
        "colab": {
          "base_uri": "https://localhost:8080/",
          "height": 483
        },
        "id": "XAOlO-oxO-PV",
        "outputId": "419df5ef-cdee-406e-e721-d9b1c5dedabf"
      },
      "execution_count": 46,
      "outputs": [
        {
          "output_type": "execute_result",
          "data": {
            "text/plain": [
              "<matplotlib.axes._subplots.AxesSubplot at 0x7fbde102e310>"
            ]
          },
          "metadata": {},
          "execution_count": 46
        },
        {
          "output_type": "display_data",
          "data": {
            "text/plain": [
              "<Figure size 720x432 with 2 Axes>"
            ],
            "image/png": "[encoded data removed]"
          },
          "metadata": {
            "needs_background": "light"
          }
        }
      ]
    },
    {
      "cell_type": "code",
      "source": [
        "#Let's see which variables are most strongly correlated with the status\n",
        "data.corr()['status'].sort_values(ascending=False)"
      ],
      "metadata": {
        "colab": {
          "base_uri": "https://localhost:8080/"
        },
        "id": "z_Dk7RzvBMOm",
        "outputId": "913e9eb8-d7dd-4fc3-86e1-42fcd9383167"
      },
      "execution_count": 47,
      "outputs": [
        {
          "output_type": "execute_result",
          "data": {
            "text/plain": [
              "status              1.000000\n",
              "spread1             0.564838\n",
              "PPE                 0.531039\n",
              "spread2             0.454842\n",
              "MDVP:Shimmer        0.367430\n",
              "MDVP:APQ            0.364316\n",
              "Shimmer:APQ5        0.351148\n",
              "MDVP:Shimmer(dB)    0.350697\n",
              "Shimmer:APQ3        0.347617\n",
              "Shimmer:DDA         0.347608\n",
              "D2                  0.340232\n",
              "MDVP:Jitter(Abs)    0.338653\n",
              "RPDE                0.308567\n",
              "MDVP:PPQ            0.288698\n",
              "MDVP:Jitter(%)      0.278220\n",
              "MDVP:RAP            0.266668\n",
              "Jitter:DDP          0.266646\n",
              "DFA                 0.231739\n",
              "NHR                 0.189429\n",
              "MDVP:Fhi(Hz)       -0.166136\n",
              "HNR                -0.361515\n",
              "MDVP:Flo(Hz)       -0.380200\n",
              "MDVP:Fo(Hz)        -0.383535\n",
              "Name: status, dtype: float64"
            ]
          },
          "metadata": {},
          "execution_count": 47
        }
      ]
    },
    {
      "cell_type": "code",
      "source": [
        "plt.figure(figsize=(2,8))\n",
        "sns.heatmap(data.corr()[['status']],cmap=\"viridis\")"
      ],
      "metadata": {
        "colab": {
          "base_uri": "https://localhost:8080/",
          "height": 500
        },
        "id": "NMh2BvPgPpx0",
        "outputId": "c42012e0-f492-43a9-8498-93e2895b8bc2"
      },
      "execution_count": 48,
      "outputs": [
        {
          "output_type": "execute_result",
          "data": {
            "text/plain": [
              "<matplotlib.axes._subplots.AxesSubplot at 0x7fbde0f31f10>"
            ]
          },
          "metadata": {},
          "execution_count": 48
        },
        {
          "output_type": "display_data",
          "data": {
            "text/plain": [
              "<Figure size 144x576 with 2 Axes>"
            ],
            "image/png": "[encoded data removed]"
          },
          "metadata": {
            "needs_background": "light"
          }
        }
      ]
    },
    {
      "cell_type": "markdown",
      "source": [
        "### Data Cleaning and Scaling"
      ],
      "metadata": {
        "id": "iXw_uSXD7jhx"
      }
    },
    {
      "cell_type": "markdown",
      "source": [
        "We will now split the data into training and test sets, for training and evaluating individual model performance."
      ],
      "metadata": {
        "id": "pObWDvRHhQwa"
      }
    },
    {
      "cell_type": "code",
      "source": [
        "from sklearn.model_selection import train_test_split\n",
        "X_train, X_test, y_train, y_test = train_test_split(data.drop('status',axis=1), data['status'], test_size=0.30, random_state=42)"
      ],
      "metadata": {
        "id": "PtEIj2I0P-Tb"
      },
      "execution_count": 55,
      "outputs": []
    },
    {
      "cell_type": "code",
      "source": [
        "from sklearn.preprocessing import MinMaxScaler"
      ],
      "metadata": {
        "id": "ORWo9YKiT3up"
      },
      "execution_count": 56,
      "outputs": []
    },
    {
      "cell_type": "code",
      "source": [
        "scaler = MinMaxScaler()\n",
        "scaler.fit(X_train)\n",
        "X_train = scaler.transform(X_train)\n",
        "X_test = scaler.transform(X_test)"
      ],
      "metadata": {
        "id": "4yhtrXncSwOC"
      },
      "execution_count": 57,
      "outputs": []
    },
    {
      "cell_type": "markdown",
      "source": [
        "### Application of Machine Learning Models for Diagnostic Prediction\n",
        "\n",
        "Firstly we will try a simple logistic regression model."
      ],
      "metadata": {
        "id": "9Qt_V1LK7yeV"
      }
    },
    {
      "cell_type": "code",
      "source": [
        "from sklearn.linear_model import LogisticRegression"
      ],
      "metadata": {
        "id": "Mre-GiS_Tzuu"
      },
      "execution_count": 58,
      "outputs": []
    },
    {
      "cell_type": "code",
      "source": [
        "log_reg = LogisticRegression()\n",
        "log_reg.fit(X_train,y_train)\n",
        "log_reg_pred = log_reg.predict(X_test)"
      ],
      "metadata": {
        "id": "kHdWOO8uUic7"
      },
      "execution_count": 59,
      "outputs": []
    },
    {
      "cell_type": "code",
      "source": [
        "from sklearn.metrics import classification_report, confusion_matrix\n",
        "print(classification_report(y_test,log_reg_pred))\n",
        "print(confusion_matrix(y_test,log_reg_pred))"
      ],
      "metadata": {
        "colab": {
          "base_uri": "https://localhost:8080/"
        },
        "id": "qbxhb4kWUp8z",
        "outputId": "66f46c74-25a0-44c1-fa83-d639fec41b65"
      },
      "execution_count": 62,
      "outputs": [
        {
          "output_type": "stream",
          "name": "stdout",
          "text": [
            "              precision    recall  f1-score   support\n",
            "\n",
            "           0       0.90      0.60      0.72        15\n",
            "           1       0.88      0.98      0.92        44\n",
            "\n",
            "    accuracy                           0.88        59\n",
            "   macro avg       0.89      0.79      0.82        59\n",
            "weighted avg       0.88      0.88      0.87        59\n",
            "\n",
            "[[ 9  6]\n",
            " [ 1 43]]\n"
          ]
        }
      ]
    },
    {
      "cell_type": "markdown",
      "source": [
        "This is a good start. The predictive accuracy is 88% and there is only one false negative. Next we can try a Naive Bayes classifier model."
      ],
      "metadata": {
        "id": "VLlGy8TQgoEd"
      }
    },
    {
      "cell_type": "code",
      "source": [
        "from sklearn.naive_bayes import GaussianNB"
      ],
      "metadata": {
        "id": "gcQfAE2oUsqp"
      },
      "execution_count": 63,
      "outputs": []
    },
    {
      "cell_type": "code",
      "source": [
        "gnb = GaussianNB()\n",
        "gnb.fit(X_train,y_train)\n",
        "gnb_pred = gnb.predict(X_test)"
      ],
      "metadata": {
        "id": "lrK9AqymhqNl"
      },
      "execution_count": 64,
      "outputs": []
    },
    {
      "cell_type": "code",
      "source": [
        "print(classification_report(y_test,gnb_pred))\n",
        "print(confusion_matrix(y_test,gnb_pred))"
      ],
      "metadata": {
        "colab": {
          "base_uri": "https://localhost:8080/"
        },
        "id": "5o3Gen7khwv8",
        "outputId": "138ef5d9-8167-471f-f5d7-23404755cb19"
      },
      "execution_count": 65,
      "outputs": [
        {
          "output_type": "stream",
          "name": "stdout",
          "text": [
            "              precision    recall  f1-score   support\n",
            "\n",
            "           0       0.52      0.80      0.63        15\n",
            "           1       0.92      0.75      0.83        44\n",
            "\n",
            "    accuracy                           0.76        59\n",
            "   macro avg       0.72      0.78      0.73        59\n",
            "weighted avg       0.82      0.76      0.78        59\n",
            "\n",
            "[[12  3]\n",
            " [11 33]]\n"
          ]
        }
      ]
    },
    {
      "cell_type": "markdown",
      "source": [
        "This model is clearly inferior to the logistic model, with many false negatives. Since false negatives are to be avoided in disease detection we will move on to some decision tree ensemble methods."
      ],
      "metadata": {
        "id": "M2EHA0Fy7-Kn"
      }
    },
    {
      "cell_type": "markdown",
      "source": [
        "Let's try a random forest classifier model. I will use the GridSearchCV tool from Scikit Learn to optimise the parameters, in order to give the optimal model performance."
      ],
      "metadata": {
        "id": "4CWMvbiHivra"
      }
    },
    {
      "cell_type": "code",
      "source": [
        "from sklearn.ensemble import RandomForestClassifier\n",
        "from sklearn.model_selection import GridSearchCV"
      ],
      "metadata": {
        "id": "ZkPBg1VzipqB"
      },
      "execution_count": 90,
      "outputs": []
    },
    {
      "cell_type": "code",
      "source": [
        "rfc = RandomForestClassifier()\n"
      ],
      "metadata": {
        "id": "5-6EJKHli0qd"
      },
      "execution_count": 91,
      "outputs": []
    },
    {
      "cell_type": "code",
      "source": [
        "param_grid = { \n",
        "    'n_estimators': [100, 300, 500],\n",
        "    'max_features': ['auto', 'sqrt', 'log2'],\n",
        "    'max_depth' : [4,5,6,7,8],\n",
        "    'criterion' :['gini', 'entropy']\n",
        "}"
      ],
      "metadata": {
        "id": "bhrpZv62mxAO"
      },
      "execution_count": 92,
      "outputs": []
    },
    {
      "cell_type": "code",
      "source": [
        "CV_rfc = GridSearchCV(estimator=rfc, param_grid=param_grid, cv= 5)\n",
        "CV_rfc.fit(X_train, y_train)"
      ],
      "metadata": {
        "colab": {
          "base_uri": "https://localhost:8080/"
        },
        "id": "ku01d8x6m5N8",
        "outputId": "2ed7077e-b21e-4445-8c2a-3db9ec103b06"
      },
      "execution_count": 94,
      "outputs": [
        {
          "output_type": "execute_result",
          "data": {
            "text/plain": [
              "GridSearchCV(cv=5, estimator=RandomForestClassifier(),\n",
              "             param_grid={'criterion': ['gini', 'entropy'],\n",
              "                         'max_depth': [4, 5, 6, 7, 8],\n",
              "                         'max_features': ['auto', 'sqrt', 'log2'],\n",
              "                         'n_estimators': [100, 300, 500]})"
            ]
          },
          "metadata": {},
          "execution_count": 94
        }
      ]
    },
    {
      "cell_type": "code",
      "source": [
        "CV_rfc.best_params_"
      ],
      "metadata": {
        "colab": {
          "base_uri": "https://localhost:8080/"
        },
        "id": "y9vUOt0um9Em",
        "outputId": "06a46940-00c1-407c-d65d-584e6810309d"
      },
      "execution_count": 95,
      "outputs": [
        {
          "output_type": "execute_result",
          "data": {
            "text/plain": [
              "{'criterion': 'gini',\n",
              " 'max_depth': 8,\n",
              " 'max_features': 'sqrt',\n",
              " 'n_estimators': 100}"
            ]
          },
          "metadata": {},
          "execution_count": 95
        }
      ]
    },
    {
      "cell_type": "code",
      "source": [
        "rfc1=RandomForestClassifier(max_features='sqrt', n_estimators= 100, max_depth=8, criterion='gini')"
      ],
      "metadata": {
        "id": "TCeD-FFTnrVX"
      },
      "execution_count": 105,
      "outputs": []
    },
    {
      "cell_type": "code",
      "source": [
        "rfc1.fit(X_train,y_train)\n",
        "rfc1_pred = rfc1.predict(X_test)"
      ],
      "metadata": {
        "id": "wyzGW1lkniSj"
      },
      "execution_count": 106,
      "outputs": []
    },
    {
      "cell_type": "code",
      "source": [
        "print(classification_report(y_test,rfc1_pred))\n",
        "print(confusion_matrix(y_test,rfc1_pred))"
      ],
      "metadata": {
        "colab": {
          "base_uri": "https://localhost:8080/"
        },
        "id": "FeEbRLU5nu1U",
        "outputId": "eab27764-3352-4433-9b53-22e910f2609a"
      },
      "execution_count": 107,
      "outputs": [
        {
          "output_type": "stream",
          "name": "stdout",
          "text": [
            "              precision    recall  f1-score   support\n",
            "\n",
            "           0       1.00      0.73      0.85        15\n",
            "           1       0.92      1.00      0.96        44\n",
            "\n",
            "    accuracy                           0.93        59\n",
            "   macro avg       0.96      0.87      0.90        59\n",
            "weighted avg       0.94      0.93      0.93        59\n",
            "\n",
            "[[11  4]\n",
            " [ 0 44]]\n"
          ]
        }
      ]
    },
    {
      "cell_type": "markdown",
      "source": [
        "The random forest classifier gives an excellent performance with 93% accuracy. There are only 4 false positives in the diagnosis predictions and no false negatives, which are so important to avoid in disease detection."
      ],
      "metadata": {
        "id": "1r-rTtVujWij"
      }
    },
    {
      "cell_type": "markdown",
      "source": [
        "Now we will try an xgboost classifier, to determine whether this can outperform the random forest classifier."
      ],
      "metadata": {
        "id": "s3OkhvhKikvv"
      }
    },
    {
      "cell_type": "code",
      "source": [
        "from xgboost import XGBClassifier"
      ],
      "metadata": {
        "id": "GwBMoVoJh0mZ"
      },
      "execution_count": 80,
      "outputs": []
    },
    {
      "cell_type": "code",
      "source": [
        "xgb = XGBClassifier()"
      ],
      "metadata": {
        "id": "DuodCl8lktgJ"
      },
      "execution_count": 109,
      "outputs": []
    },
    {
      "cell_type": "code",
      "source": [
        "param_grid = {\"subsample\":[0.5, 0.75, 1],\n",
        "              \"colsample_bytree\":[0.5, 0.75, 1],\n",
        "              \"max_depth\":[2, 6, 12],\n",
        "              \"min_child_weight\":[1,5,15],\n",
        "              \"learning_rate\":[0.3, 0.1, 0.03],\n",
        "              \"n_estimators\":[100]}"
      ],
      "metadata": {
        "id": "BNZ0bcZGquNn"
      },
      "execution_count": 108,
      "outputs": []
    },
    {
      "cell_type": "code",
      "source": [
        "CV_xgb = GridSearchCV(estimator=xgb, param_grid=param_grid, cv= 5)\n",
        "CV_xgb.fit(X_train, y_train)"
      ],
      "metadata": {
        "colab": {
          "base_uri": "https://localhost:8080/"
        },
        "id": "J8OIWO-jquQo",
        "outputId": "c4c71f20-f359-4741-a774-a5703fb029be"
      },
      "execution_count": 110,
      "outputs": [
        {
          "output_type": "execute_result",
          "data": {
            "text/plain": [
              "GridSearchCV(cv=5, estimator=XGBClassifier(),\n",
              "             param_grid={'colsample_bytree': [0.5, 0.75, 1],\n",
              "                         'learning_rate': [0.3, 0.1, 0.03],\n",
              "                         'max_depth': [2, 6, 12],\n",
              "                         'min_child_weight': [1, 5, 15], 'n_estimators': [100],\n",
              "                         'subsample': [0.5, 0.75, 1]})"
            ]
          },
          "metadata": {},
          "execution_count": 110
        }
      ]
    },
    {
      "cell_type": "code",
      "source": [
        "CV_xgb.best_params_"
      ],
      "metadata": {
        "colab": {
          "base_uri": "https://localhost:8080/"
        },
        "id": "zM_fVFB4quTq",
        "outputId": "da48594c-b687-4a0f-a49d-6c8766c5fb5f"
      },
      "execution_count": 111,
      "outputs": [
        {
          "output_type": "execute_result",
          "data": {
            "text/plain": [
              "{'colsample_bytree': 0.5,\n",
              " 'learning_rate': 0.1,\n",
              " 'max_depth': 6,\n",
              " 'min_child_weight': 1,\n",
              " 'n_estimators': 100,\n",
              " 'subsample': 1}"
            ]
          },
          "metadata": {},
          "execution_count": 111
        }
      ]
    },
    {
      "cell_type": "code",
      "source": [
        "xgb1 = XGBClassifier(colsample_bytree=0.5, learning_rate = 0.1, max_depth = 6, min_child_weight = 1, n_estimators = 100, subsample = 1)"
      ],
      "metadata": {
        "id": "7r7OW5HTquWF"
      },
      "execution_count": 112,
      "outputs": []
    },
    {
      "cell_type": "code",
      "source": [
        "xgb1.fit(X_train, y_train)\n",
        "xgb1_pred = xgb1.predict(X_test)"
      ],
      "metadata": {
        "id": "KCo0liulquYh"
      },
      "execution_count": 113,
      "outputs": []
    },
    {
      "cell_type": "code",
      "source": [
        "print(classification_report(y_test,xgb_pred))\n",
        "print(confusion_matrix(y_test,xgb_pred))"
      ],
      "metadata": {
        "colab": {
          "base_uri": "https://localhost:8080/"
        },
        "id": "0V1pxa_DlBji",
        "outputId": "c2a52c04-fba1-4649-fd04-d536455e24cf"
      },
      "execution_count": 114,
      "outputs": [
        {
          "output_type": "stream",
          "name": "stdout",
          "text": [
            "              precision    recall  f1-score   support\n",
            "\n",
            "           0       1.00      0.73      0.85        15\n",
            "           1       0.92      1.00      0.96        44\n",
            "\n",
            "    accuracy                           0.93        59\n",
            "   macro avg       0.96      0.87      0.90        59\n",
            "weighted avg       0.94      0.93      0.93        59\n",
            "\n",
            "[[11  4]\n",
            " [ 0 44]]\n"
          ]
        }
      ]
    },
    {
      "cell_type": "markdown",
      "source": [
        "The xgboost classifier model performs identically to the random forest model, with 93% accuracy, zero false negatives and only 4 false positive diagnoses."
      ],
      "metadata": {
        "id": "O5ZoJxWfsiHQ"
      }
    },
    {
      "cell_type": "markdown",
      "source": [
        "We will now try a support vector machines classifier model."
      ],
      "metadata": {
        "id": "BujxUhL7s8HF"
      }
    },
    {
      "cell_type": "code",
      "source": [
        "from sklearn.svm import SVC"
      ],
      "metadata": {
        "id": "cM-y_I0TlZZh"
      },
      "execution_count": 116,
      "outputs": []
    },
    {
      "cell_type": "code",
      "source": [
        "svc = SVC()\n",
        "svc.fit(X_train,y_train)\n",
        "svc_pred = svc.predict(X_test)"
      ],
      "metadata": {
        "id": "tD2trRqjlZlI"
      },
      "execution_count": 117,
      "outputs": []
    },
    {
      "cell_type": "code",
      "source": [
        "print(classification_report(y_test,svc_pred))\n",
        "print(confusion_matrix(y_test,svc_pred))"
      ],
      "metadata": {
        "colab": {
          "base_uri": "https://localhost:8080/"
        },
        "id": "KUlZ2zIclZpI",
        "outputId": "fcac70a8-7e13-46bf-a852-b378f7bb80dc"
      },
      "execution_count": 118,
      "outputs": [
        {
          "output_type": "stream",
          "name": "stdout",
          "text": [
            "              precision    recall  f1-score   support\n",
            "\n",
            "           0       1.00      0.53      0.70        15\n",
            "           1       0.86      1.00      0.93        44\n",
            "\n",
            "    accuracy                           0.88        59\n",
            "   macro avg       0.93      0.77      0.81        59\n",
            "weighted avg       0.90      0.88      0.87        59\n",
            "\n",
            "[[ 8  7]\n",
            " [ 0 44]]\n"
          ]
        }
      ]
    },
    {
      "cell_type": "markdown",
      "source": [
        "The SVC classifier model performs well, with zero false negatives but there are a few more false positives than seen with the decision tree ensemble models."
      ],
      "metadata": {
        "id": "VMGu8g70tDxn"
      }
    },
    {
      "cell_type": "markdown",
      "source": [
        "Finally, let's try a neural network using Keras, to see if this model can outperform the tree ensemble models. It is unlikely this will be the case, due to the small size of the data set but it is worth a look."
      ],
      "metadata": {
        "id": "Nfi6IDNmvRVF"
      }
    },
    {
      "cell_type": "code",
      "source": [
        "import tensorflow as tf\n",
        "from tensorflow.keras.models import Sequential\n",
        "from tensorflow.keras.layers import Dense,Dropout"
      ],
      "metadata": {
        "id": "UW6nTFuotPLV"
      },
      "execution_count": 135,
      "outputs": []
    },
    {
      "cell_type": "code",
      "source": [
        "X_train.shape\n",
        "#22 input variables, so we require 22 inputs to the neural network"
      ],
      "metadata": {
        "colab": {
          "base_uri": "https://localhost:8080/"
        },
        "id": "QjBc4RBtvloT",
        "outputId": "87d5472b-4e1d-4080-f81d-d96c4c18d4ac"
      },
      "execution_count": 136,
      "outputs": [
        {
          "output_type": "execute_result",
          "data": {
            "text/plain": [
              "(136, 22)"
            ]
          },
          "metadata": {},
          "execution_count": 136
        }
      ]
    },
    {
      "cell_type": "markdown",
      "source": [
        "I will try an artificial neural network model with 22 input variables, hidden layers with ReLU activation function, each with 12, 6 and 3 neurons respectively and a single output neuron witih a sigmoid activation function for binary classification. "
      ],
      "metadata": {
        "id": "kmWEal0IyB4j"
      }
    },
    {
      "cell_type": "code",
      "source": [
        "model = Sequential()\n",
        "#define number of model layers and number of neurons in each layer\n",
        "model.add(Dense(units=22,activation='relu'))\n",
        "#model.add(Dropout(0.2))\n",
        "model.add(Dense(units=12,activation='relu'))\n",
        "#model.add(Dropout(0.2))\n",
        "model.add(Dense(units=6,activation='relu'))\n",
        "#model.add(Dropout(0.2))\n",
        "model.add(Dense(units=3,activation='relu'))\n",
        "#model.add(Dropout(0.2))\n",
        "# This is a binary classification problem, so we require a sigmoid activation function\n",
        "model.add(Dense(units=1,activation='sigmoid'))\n",
        "# compile the model\n",
        "model.compile(loss='binary_crossentropy', optimizer='adam')"
      ],
      "metadata": {
        "id": "P3ZJDDdovrAa"
      },
      "execution_count": 162,
      "outputs": []
    },
    {
      "cell_type": "code",
      "source": [
        "model.fit(x=X_train, y=y_train, epochs=150, validation_data=(X_test, y_test))"
      ],
      "metadata": {
        "colab": {
          "base_uri": "https://localhost:8080/"
        },
        "id": "2bHUDYTRwRjc",
        "outputId": "47fa688f-558d-4bcf-e1b0-0bc46fe1a624"
      },
      "execution_count": 163,
      "outputs": [
        {
          "output_type": "stream",
          "name": "stdout",
          "text": [
            "Epoch 1/150\n",
            "5/5 [==============================] - 1s 41ms/step - loss: 0.6708 - val_loss: 0.6651\n",
            "Epoch 2/150\n",
            "5/5 [==============================] - 0s 8ms/step - loss: 0.6516 - val_loss: 0.6487\n",
            "Epoch 3/150\n",
            "5/5 [==============================] - 0s 8ms/step - loss: 0.6333 - val_loss: 0.6297\n",
            "Epoch 4/150\n",
            "5/5 [==============================] - 0s 8ms/step - loss: 0.6118 - val_loss: 0.6102\n",
            "Epoch 5/150\n",
            "5/5 [==============================] - 0s 8ms/step - loss: 0.5890 - val_loss: 0.5895\n",
            "Epoch 6/150\n",
            "5/5 [==============================] - 0s 8ms/step - loss: 0.5676 - val_loss: 0.5657\n",
            "Epoch 7/150\n",
            "5/5 [==============================] - 0s 12ms/step - loss: 0.5440 - val_loss: 0.5412\n",
            "Epoch 8/150\n",
            "5/5 [==============================] - 0s 12ms/step - loss: 0.5181 - val_loss: 0.5173\n",
            "Epoch 9/150\n",
            "5/5 [==============================] - 0s 10ms/step - loss: 0.4993 - val_loss: 0.4998\n",
            "Epoch 10/150\n",
            "5/5 [==============================] - 0s 8ms/step - loss: 0.4830 - val_loss: 0.4881\n",
            "Epoch 11/150\n",
            "5/5 [==============================] - 0s 8ms/step - loss: 0.4723 - val_loss: 0.4761\n",
            "Epoch 12/150\n",
            "5/5 [==============================] - 0s 8ms/step - loss: 0.4617 - val_loss: 0.4659\n",
            "Epoch 13/150\n",
            "5/5 [==============================] - 0s 8ms/step - loss: 0.4529 - val_loss: 0.4587\n",
            "Epoch 14/150\n",
            "5/5 [==============================] - 0s 8ms/step - loss: 0.4460 - val_loss: 0.4538\n",
            "Epoch 15/150\n",
            "5/5 [==============================] - 0s 8ms/step - loss: 0.4393 - val_loss: 0.4477\n",
            "Epoch 16/150\n",
            "5/5 [==============================] - 0s 8ms/step - loss: 0.4340 - val_loss: 0.4417\n",
            "Epoch 17/150\n",
            "5/5 [==============================] - 0s 10ms/step - loss: 0.4291 - val_loss: 0.4365\n",
            "Epoch 18/150\n",
            "5/5 [==============================] - 0s 8ms/step - loss: 0.4251 - val_loss: 0.4339\n",
            "Epoch 19/150\n",
            "5/5 [==============================] - 0s 9ms/step - loss: 0.4209 - val_loss: 0.4310\n",
            "Epoch 20/150\n",
            "5/5 [==============================] - 0s 13ms/step - loss: 0.4181 - val_loss: 0.4294\n",
            "Epoch 21/150\n",
            "5/5 [==============================] - 0s 8ms/step - loss: 0.4158 - val_loss: 0.4277\n",
            "Epoch 22/150\n",
            "5/5 [==============================] - 0s 8ms/step - loss: 0.4132 - val_loss: 0.4243\n",
            "Epoch 23/150\n",
            "5/5 [==============================] - 0s 8ms/step - loss: 0.4090 - val_loss: 0.4209\n",
            "Epoch 24/150\n",
            "5/5 [==============================] - 0s 8ms/step - loss: 0.4061 - val_loss: 0.4183\n",
            "Epoch 25/150\n",
            "5/5 [==============================] - 0s 12ms/step - loss: 0.4037 - val_loss: 0.4169\n",
            "Epoch 26/150\n",
            "5/5 [==============================] - 0s 8ms/step - loss: 0.4016 - val_loss: 0.4147\n",
            "Epoch 27/150\n",
            "5/5 [==============================] - 0s 8ms/step - loss: 0.3982 - val_loss: 0.4125\n",
            "Epoch 28/150\n",
            "5/5 [==============================] - 0s 8ms/step - loss: 0.3952 - val_loss: 0.4099\n",
            "Epoch 29/150\n",
            "5/5 [==============================] - 0s 9ms/step - loss: 0.3925 - val_loss: 0.4076\n",
            "Epoch 30/150\n",
            "5/5 [==============================] - 0s 8ms/step - loss: 0.3896 - val_loss: 0.4056\n",
            "Epoch 31/150\n",
            "5/5 [==============================] - 0s 8ms/step - loss: 0.3873 - val_loss: 0.4031\n",
            "Epoch 32/150\n",
            "5/5 [==============================] - 0s 8ms/step - loss: 0.3843 - val_loss: 0.4009\n",
            "Epoch 33/150\n",
            "5/5 [==============================] - 0s 8ms/step - loss: 0.3812 - val_loss: 0.3993\n",
            "Epoch 34/150\n",
            "5/5 [==============================] - 0s 8ms/step - loss: 0.3793 - val_loss: 0.3977\n",
            "Epoch 35/150\n",
            "5/5 [==============================] - 0s 8ms/step - loss: 0.3753 - val_loss: 0.3964\n",
            "Epoch 36/150\n",
            "5/5 [==============================] - 0s 8ms/step - loss: 0.3728 - val_loss: 0.3954\n",
            "Epoch 37/150\n",
            "5/5 [==============================] - 0s 8ms/step - loss: 0.3700 - val_loss: 0.3937\n",
            "Epoch 38/150\n",
            "5/5 [==============================] - 0s 8ms/step - loss: 0.3667 - val_loss: 0.3930\n",
            "Epoch 39/150\n",
            "5/5 [==============================] - 0s 12ms/step - loss: 0.3665 - val_loss: 0.3922\n",
            "Epoch 40/150\n",
            "5/5 [==============================] - 0s 8ms/step - loss: 0.3646 - val_loss: 0.3911\n",
            "Epoch 41/150\n",
            "5/5 [==============================] - 0s 10ms/step - loss: 0.3605 - val_loss: 0.3903\n",
            "Epoch 42/150\n",
            "5/5 [==============================] - 0s 8ms/step - loss: 0.3580 - val_loss: 0.3900\n",
            "Epoch 43/150\n",
            "5/5 [==============================] - 0s 8ms/step - loss: 0.3565 - val_loss: 0.3884\n",
            "Epoch 44/150\n",
            "5/5 [==============================] - 0s 8ms/step - loss: 0.3542 - val_loss: 0.3872\n",
            "Epoch 45/150\n",
            "5/5 [==============================] - 0s 8ms/step - loss: 0.3515 - val_loss: 0.3885\n",
            "Epoch 46/150\n",
            "5/5 [==============================] - 0s 9ms/step - loss: 0.3503 - val_loss: 0.3879\n",
            "Epoch 47/150\n",
            "5/5 [==============================] - 0s 8ms/step - loss: 0.3488 - val_loss: 0.3819\n",
            "Epoch 48/150\n",
            "5/5 [==============================] - 0s 9ms/step - loss: 0.3462 - val_loss: 0.3800\n",
            "Epoch 49/150\n",
            "5/5 [==============================] - 0s 8ms/step - loss: 0.3438 - val_loss: 0.3786\n",
            "Epoch 50/150\n",
            "5/5 [==============================] - 0s 9ms/step - loss: 0.3444 - val_loss: 0.3782\n",
            "Epoch 51/150\n",
            "5/5 [==============================] - 0s 8ms/step - loss: 0.3410 - val_loss: 0.3784\n",
            "Epoch 52/150\n",
            "5/5 [==============================] - 0s 13ms/step - loss: 0.3391 - val_loss: 0.3817\n",
            "Epoch 53/150\n",
            "5/5 [==============================] - 0s 8ms/step - loss: 0.3412 - val_loss: 0.3802\n",
            "Epoch 54/150\n",
            "5/5 [==============================] - 0s 8ms/step - loss: 0.3357 - val_loss: 0.3751\n",
            "Epoch 55/150\n",
            "5/5 [==============================] - 0s 8ms/step - loss: 0.3337 - val_loss: 0.3734\n",
            "Epoch 56/150\n",
            "5/5 [==============================] - 0s 8ms/step - loss: 0.3330 - val_loss: 0.3716\n",
            "Epoch 57/150\n",
            "5/5 [==============================] - 0s 9ms/step - loss: 0.3306 - val_loss: 0.3717\n",
            "Epoch 58/150\n",
            "5/5 [==============================] - 0s 9ms/step - loss: 0.3291 - val_loss: 0.3736\n",
            "Epoch 59/150\n",
            "5/5 [==============================] - 0s 8ms/step - loss: 0.3263 - val_loss: 0.3654\n",
            "Epoch 60/150\n",
            "5/5 [==============================] - 0s 10ms/step - loss: 0.3258 - val_loss: 0.3621\n",
            "Epoch 61/150\n",
            "5/5 [==============================] - 0s 11ms/step - loss: 0.3254 - val_loss: 0.3606\n",
            "Epoch 62/150\n",
            "5/5 [==============================] - 0s 8ms/step - loss: 0.3216 - val_loss: 0.3610\n",
            "Epoch 63/150\n",
            "5/5 [==============================] - 0s 9ms/step - loss: 0.3192 - val_loss: 0.3613\n",
            "Epoch 64/150\n",
            "5/5 [==============================] - 0s 8ms/step - loss: 0.3187 - val_loss: 0.3602\n",
            "Epoch 65/150\n",
            "5/5 [==============================] - 0s 8ms/step - loss: 0.3144 - val_loss: 0.3564\n",
            "Epoch 66/150\n",
            "5/5 [==============================] - 0s 9ms/step - loss: 0.3156 - val_loss: 0.3552\n",
            "Epoch 67/150\n",
            "5/5 [==============================] - 0s 8ms/step - loss: 0.3139 - val_loss: 0.3588\n",
            "Epoch 68/150\n",
            "5/5 [==============================] - 0s 9ms/step - loss: 0.3112 - val_loss: 0.3627\n",
            "Epoch 69/150\n",
            "5/5 [==============================] - 0s 8ms/step - loss: 0.3093 - val_loss: 0.3561\n",
            "Epoch 70/150\n",
            "5/5 [==============================] - 0s 8ms/step - loss: 0.3068 - val_loss: 0.3542\n",
            "Epoch 71/150\n",
            "5/5 [==============================] - 0s 8ms/step - loss: 0.3049 - val_loss: 0.3550\n",
            "Epoch 72/150\n",
            "5/5 [==============================] - 0s 8ms/step - loss: 0.3039 - val_loss: 0.3543\n",
            "Epoch 73/150\n",
            "5/5 [==============================] - 0s 8ms/step - loss: 0.3032 - val_loss: 0.3549\n",
            "Epoch 74/150\n",
            "5/5 [==============================] - 0s 9ms/step - loss: 0.3010 - val_loss: 0.3507\n",
            "Epoch 75/150\n",
            "5/5 [==============================] - 0s 8ms/step - loss: 0.3016 - val_loss: 0.3459\n",
            "Epoch 76/150\n",
            "5/5 [==============================] - 0s 8ms/step - loss: 0.2992 - val_loss: 0.3463\n",
            "Epoch 77/150\n",
            "5/5 [==============================] - 0s 8ms/step - loss: 0.2976 - val_loss: 0.3532\n",
            "Epoch 78/150\n",
            "5/5 [==============================] - 0s 8ms/step - loss: 0.2962 - val_loss: 0.3501\n",
            "Epoch 79/150\n",
            "5/5 [==============================] - 0s 8ms/step - loss: 0.2929 - val_loss: 0.3443\n",
            "Epoch 80/150\n",
            "5/5 [==============================] - 0s 9ms/step - loss: 0.2937 - val_loss: 0.3455\n",
            "Epoch 81/150\n",
            "5/5 [==============================] - 0s 9ms/step - loss: 0.2917 - val_loss: 0.3538\n",
            "Epoch 82/150\n",
            "5/5 [==============================] - 0s 9ms/step - loss: 0.2888 - val_loss: 0.3531\n",
            "Epoch 83/150\n",
            "5/5 [==============================] - 0s 11ms/step - loss: 0.2882 - val_loss: 0.3500\n",
            "Epoch 84/150\n",
            "5/5 [==============================] - 0s 10ms/step - loss: 0.2853 - val_loss: 0.3453\n",
            "Epoch 85/150\n",
            "5/5 [==============================] - 0s 8ms/step - loss: 0.2832 - val_loss: 0.3462\n",
            "Epoch 86/150\n",
            "5/5 [==============================] - 0s 8ms/step - loss: 0.2842 - val_loss: 0.3461\n",
            "Epoch 87/150\n",
            "5/5 [==============================] - 0s 9ms/step - loss: 0.2819 - val_loss: 0.3408\n",
            "Epoch 88/150\n",
            "5/5 [==============================] - 0s 8ms/step - loss: 0.2794 - val_loss: 0.3342\n",
            "Epoch 89/150\n",
            "5/5 [==============================] - 0s 9ms/step - loss: 0.2809 - val_loss: 0.3346\n",
            "Epoch 90/150\n",
            "5/5 [==============================] - 0s 8ms/step - loss: 0.2764 - val_loss: 0.3385\n",
            "Epoch 91/150\n",
            "5/5 [==============================] - 0s 9ms/step - loss: 0.2759 - val_loss: 0.3474\n",
            "Epoch 92/150\n",
            "5/5 [==============================] - 0s 8ms/step - loss: 0.2767 - val_loss: 0.3353\n",
            "Epoch 93/150\n",
            "5/5 [==============================] - 0s 8ms/step - loss: 0.2706 - val_loss: 0.3242\n",
            "Epoch 94/150\n",
            "5/5 [==============================] - 0s 9ms/step - loss: 0.2702 - val_loss: 0.3224\n",
            "Epoch 95/150\n",
            "5/5 [==============================] - 0s 10ms/step - loss: 0.2678 - val_loss: 0.3246\n",
            "Epoch 96/150\n",
            "5/5 [==============================] - 0s 10ms/step - loss: 0.2688 - val_loss: 0.3299\n",
            "Epoch 97/150\n",
            "5/5 [==============================] - 0s 15ms/step - loss: 0.2656 - val_loss: 0.3222\n",
            "Epoch 98/150\n",
            "5/5 [==============================] - 0s 8ms/step - loss: 0.2628 - val_loss: 0.3210\n",
            "Epoch 99/150\n",
            "5/5 [==============================] - 0s 12ms/step - loss: 0.2623 - val_loss: 0.3169\n",
            "Epoch 100/150\n",
            "5/5 [==============================] - 0s 9ms/step - loss: 0.2604 - val_loss: 0.3193\n",
            "Epoch 101/150\n",
            "5/5 [==============================] - 0s 8ms/step - loss: 0.2605 - val_loss: 0.3356\n",
            "Epoch 102/150\n",
            "5/5 [==============================] - 0s 8ms/step - loss: 0.2609 - val_loss: 0.3236\n",
            "Epoch 103/150\n",
            "5/5 [==============================] - 0s 8ms/step - loss: 0.2546 - val_loss: 0.3163\n",
            "Epoch 104/150\n",
            "5/5 [==============================] - 0s 11ms/step - loss: 0.2574 - val_loss: 0.3127\n",
            "Epoch 105/150\n",
            "5/5 [==============================] - 0s 8ms/step - loss: 0.2561 - val_loss: 0.3175\n",
            "Epoch 106/150\n",
            "5/5 [==============================] - 0s 12ms/step - loss: 0.2531 - val_loss: 0.3308\n",
            "Epoch 107/150\n",
            "5/5 [==============================] - 0s 9ms/step - loss: 0.2526 - val_loss: 0.3213\n",
            "Epoch 108/150\n",
            "5/5 [==============================] - 0s 8ms/step - loss: 0.2509 - val_loss: 0.3114\n",
            "Epoch 109/150\n",
            "5/5 [==============================] - 0s 8ms/step - loss: 0.2480 - val_loss: 0.3137\n",
            "Epoch 110/150\n",
            "5/5 [==============================] - 0s 8ms/step - loss: 0.2460 - val_loss: 0.3191\n",
            "Epoch 111/150\n",
            "5/5 [==============================] - 0s 9ms/step - loss: 0.2458 - val_loss: 0.3180\n",
            "Epoch 112/150\n",
            "5/5 [==============================] - 0s 9ms/step - loss: 0.2452 - val_loss: 0.3108\n",
            "Epoch 113/150\n",
            "5/5 [==============================] - 0s 9ms/step - loss: 0.2423 - val_loss: 0.3106\n",
            "Epoch 114/150\n",
            "5/5 [==============================] - 0s 8ms/step - loss: 0.2412 - val_loss: 0.3106\n",
            "Epoch 115/150\n",
            "5/5 [==============================] - 0s 8ms/step - loss: 0.2392 - val_loss: 0.3137\n",
            "Epoch 116/150\n",
            "5/5 [==============================] - 0s 9ms/step - loss: 0.2409 - val_loss: 0.3156\n",
            "Epoch 117/150\n",
            "5/5 [==============================] - 0s 8ms/step - loss: 0.2390 - val_loss: 0.3026\n",
            "Epoch 118/150\n",
            "5/5 [==============================] - 0s 8ms/step - loss: 0.2384 - val_loss: 0.3056\n",
            "Epoch 119/150\n",
            "5/5 [==============================] - 0s 13ms/step - loss: 0.2360 - val_loss: 0.3193\n",
            "Epoch 120/150\n",
            "5/5 [==============================] - 0s 13ms/step - loss: 0.2352 - val_loss: 0.3174\n",
            "Epoch 121/150\n",
            "5/5 [==============================] - 0s 12ms/step - loss: 0.2321 - val_loss: 0.3056\n",
            "Epoch 122/150\n",
            "5/5 [==============================] - 0s 13ms/step - loss: 0.2301 - val_loss: 0.3013\n",
            "Epoch 123/150\n",
            "5/5 [==============================] - 0s 12ms/step - loss: 0.2286 - val_loss: 0.3026\n",
            "Epoch 124/150\n",
            "5/5 [==============================] - 0s 17ms/step - loss: 0.2281 - val_loss: 0.3032\n",
            "Epoch 125/150\n",
            "5/5 [==============================] - 0s 12ms/step - loss: 0.2265 - val_loss: 0.3023\n",
            "Epoch 126/150\n",
            "5/5 [==============================] - 0s 16ms/step - loss: 0.2242 - val_loss: 0.2946\n",
            "Epoch 127/150\n",
            "5/5 [==============================] - 0s 11ms/step - loss: 0.2255 - val_loss: 0.2972\n",
            "Epoch 128/150\n",
            "5/5 [==============================] - 0s 16ms/step - loss: 0.2232 - val_loss: 0.3025\n",
            "Epoch 129/150\n",
            "5/5 [==============================] - 0s 11ms/step - loss: 0.2212 - val_loss: 0.2887\n",
            "Epoch 130/150\n",
            "5/5 [==============================] - 0s 11ms/step - loss: 0.2213 - val_loss: 0.2923\n",
            "Epoch 131/150\n",
            "5/5 [==============================] - 0s 11ms/step - loss: 0.2173 - val_loss: 0.3053\n",
            "Epoch 132/150\n",
            "5/5 [==============================] - 0s 11ms/step - loss: 0.2202 - val_loss: 0.2962\n",
            "Epoch 133/150\n",
            "5/5 [==============================] - 0s 11ms/step - loss: 0.2144 - val_loss: 0.2846\n",
            "Epoch 134/150\n",
            "5/5 [==============================] - 0s 12ms/step - loss: 0.2191 - val_loss: 0.2862\n",
            "Epoch 135/150\n",
            "5/5 [==============================] - 0s 16ms/step - loss: 0.2132 - val_loss: 0.3019\n",
            "Epoch 136/150\n",
            "5/5 [==============================] - 0s 13ms/step - loss: 0.2149 - val_loss: 0.3005\n",
            "Epoch 137/150\n",
            "5/5 [==============================] - 0s 16ms/step - loss: 0.2120 - val_loss: 0.2916\n",
            "Epoch 138/150\n",
            "5/5 [==============================] - 0s 15ms/step - loss: 0.2105 - val_loss: 0.2830\n",
            "Epoch 139/150\n",
            "5/5 [==============================] - 0s 14ms/step - loss: 0.2104 - val_loss: 0.2923\n",
            "Epoch 140/150\n",
            "5/5 [==============================] - 0s 20ms/step - loss: 0.2076 - val_loss: 0.3049\n",
            "Epoch 141/150\n",
            "5/5 [==============================] - 0s 17ms/step - loss: 0.2087 - val_loss: 0.2817\n",
            "Epoch 142/150\n",
            "5/5 [==============================] - 0s 11ms/step - loss: 0.2059 - val_loss: 0.2823\n",
            "Epoch 143/150\n",
            "5/5 [==============================] - 0s 11ms/step - loss: 0.2048 - val_loss: 0.2812\n",
            "Epoch 144/150\n",
            "5/5 [==============================] - 0s 12ms/step - loss: 0.2012 - val_loss: 0.2778\n",
            "Epoch 145/150\n",
            "5/5 [==============================] - 0s 12ms/step - loss: 0.2040 - val_loss: 0.2800\n",
            "Epoch 146/150\n",
            "5/5 [==============================] - 0s 12ms/step - loss: 0.2000 - val_loss: 0.2951\n",
            "Epoch 147/150\n",
            "5/5 [==============================] - 0s 11ms/step - loss: 0.1997 - val_loss: 0.2969\n",
            "Epoch 148/150\n",
            "5/5 [==============================] - 0s 13ms/step - loss: 0.1978 - val_loss: 0.2835\n",
            "Epoch 149/150\n",
            "5/5 [==============================] - 0s 11ms/step - loss: 0.1968 - val_loss: 0.2843\n",
            "Epoch 150/150\n",
            "5/5 [==============================] - 0s 15ms/step - loss: 0.1953 - val_loss: 0.2869\n"
          ]
        },
        {
          "output_type": "execute_result",
          "data": {
            "text/plain": [
              "<keras.callbacks.History at 0x7fbd7626e090>"
            ]
          },
          "metadata": {},
          "execution_count": 163
        }
      ]
    },
    {
      "cell_type": "code",
      "source": [
        "from tensorflow.keras.models import load_model\n",
        "model.save('parkinsons_ANN_model.h5')"
      ],
      "metadata": {
        "id": "jt1vVnXjwmi5"
      },
      "execution_count": 164,
      "outputs": []
    },
    {
      "cell_type": "code",
      "source": [
        "model_loss = pd.DataFrame(model.history.history)\n",
        "model_loss.tail()"
      ],
      "metadata": {
        "colab": {
          "base_uri": "https://localhost:8080/",
          "height": 206
        },
        "id": "BVHrZVR5w3De",
        "outputId": "d8ce26bd-1f91-4f30-806b-e9031667d6f3"
      },
      "execution_count": 165,
      "outputs": [
        {
          "output_type": "execute_result",
          "data": {
            "text/plain": [
              "         loss  val_loss\n",
              "145  0.200023  0.295098\n",
              "146  0.199718  0.296909\n",
              "147  0.197791  0.283538\n",
              "148  0.196765  0.284339\n",
              "149  0.195317  0.286935"
            ],
            "text/html": [
              "\n",
              "  <div id=\"df-547dfd25-1804-4857-bff3-1ea1d8254402\">\n",
              "    <div class=\"colab-df-container\">\n",
              "      <div>\n",
              "<style scoped>\n",
              "    .dataframe tbody tr th:only-of-type {\n",
              "        vertical-align: middle;\n",
              "    }\n",
              "\n",
              "    .dataframe tbody tr th {\n",
              "        vertical-align: top;\n",
              "    }\n",
              "\n",
              "    .dataframe thead th {\n",
              "        text-align: right;\n",
              "    }\n",
              "</style>\n",
              "<table border=\"1\" class=\"dataframe\">\n",
              "  <thead>\n",
              "    <tr style=\"text-align: right;\">\n",
              "      <th></th>\n",
              "      <th>loss</th>\n",
              "      <th>val_loss</th>\n",
              "    </tr>\n",
              "  </thead>\n",
              "  <tbody>\n",
              "    <tr>\n",
              "      <th>145</th>\n",
              "      <td>0.200023</td>\n",
              "      <td>0.295098</td>\n",
              "    </tr>\n",
              "    <tr>\n",
              "      <th>146</th>\n",
              "      <td>0.199718</td>\n",
              "      <td>0.296909</td>\n",
              "    </tr>\n",
              "    <tr>\n",
              "      <th>147</th>\n",
              "      <td>0.197791</td>\n",
              "      <td>0.283538</td>\n",
              "    </tr>\n",
              "    <tr>\n",
              "      <th>148</th>\n",
              "      <td>0.196765</td>\n",
              "      <td>0.284339</td>\n",
              "    </tr>\n",
              "    <tr>\n",
              "      <th>149</th>\n",
              "      <td>0.195317</td>\n",
              "      <td>0.286935</td>\n",
              "    </tr>\n",
              "  </tbody>\n",
              "</table>\n",
              "</div>\n",
              "      <button class=\"colab-df-convert\" onclick=\"convertToInteractive('df-547dfd25-1804-4857-bff3-1ea1d8254402')\"\n",
              "              title=\"Convert this dataframe to an interactive table.\"\n",
              "              style=\"display:none;\">\n",
              "        \n",
              "  <svg xmlns=\"http://www.w3.org/2000/svg\" height=\"24px\"viewBox=\"0 0 24 24\"\n",
              "       width=\"24px\">\n",
              "    <path d=\"M0 0h24v24H0V0z\" fill=\"none\"/>\n",
              "    <path d=\"M18.56 5.44l.94 2.06.94-2.06 2.06-.94-2.06-.94-.94-2.06-.94 2.06-2.06.94zm-11 1L8.5 8.5l.94-2.06 2.06-.94-2.06-.94L8.5 2.5l-.94 2.06-2.06.94zm10 10l.94 2.06.94-2.06 2.06-.94-2.06-.94-.94-2.06-.94 2.06-2.06.94z\"/><path d=\"M17.41 7.96l-1.37-1.37c-.4-.4-.92-.59-1.43-.59-.52 0-1.04.2-1.43.59L10.3 9.45l-7.72 7.72c-.78.78-.78 2.05 0 2.83L4 21.41c.39.39.9.59 1.41.59.51 0 1.02-.2 1.41-.59l7.78-7.78 2.81-2.81c.8-.78.8-2.07 0-2.86zM5.41 20L4 18.59l7.72-7.72 1.47 1.35L5.41 20z\"/>\n",
              "  </svg>\n",
              "      </button>\n",
              "      \n",
              "  <style>\n",
              "    .colab-df-container {\n",
              "      display:flex;\n",
              "      flex-wrap:wrap;\n",
              "      gap: 12px;\n",
              "    }\n",
              "\n",
              "    .colab-df-convert {\n",
              "      background-color: #E8F0FE;\n",
              "      border: none;\n",
              "      border-radius: 50%;\n",
              "      cursor: pointer;\n",
              "      display: none;\n",
              "      fill: #1967D2;\n",
              "      height: 32px;\n",
              "      padding: 0 0 0 0;\n",
              "      width: 32px;\n",
              "    }\n",
              "\n",
              "    .colab-df-convert:hover {\n",
              "      background-color: #E2EBFA;\n",
              "      box-shadow: 0px 1px 2px rgba(60, 64, 67, 0.3), 0px 1px 3px 1px rgba(60, 64, 67, 0.15);\n",
              "      fill: #174EA6;\n",
              "    }\n",
              "\n",
              "    [theme=dark] .colab-df-convert {\n",
              "      background-color: #3B4455;\n",
              "      fill: #D2E3FC;\n",
              "    }\n",
              "\n",
              "    [theme=dark] .colab-df-convert:hover {\n",
              "      background-color: #434B5C;\n",
              "      box-shadow: 0px 1px 3px 1px rgba(0, 0, 0, 0.15);\n",
              "      filter: drop-shadow(0px 1px 2px rgba(0, 0, 0, 0.3));\n",
              "      fill: #FFFFFF;\n",
              "    }\n",
              "  </style>\n",
              "\n",
              "      <script>\n",
              "        const buttonEl =\n",
              "          document.querySelector('#df-547dfd25-1804-4857-bff3-1ea1d8254402 button.colab-df-convert');\n",
              "        buttonEl.style.display =\n",
              "          google.colab.kernel.accessAllowed ? 'block' : 'none';\n",
              "\n",
              "        async function convertToInteractive(key) {\n",
              "          const element = document.querySelector('#df-547dfd25-1804-4857-bff3-1ea1d8254402');\n",
              "          const dataTable =\n",
              "            await google.colab.kernel.invokeFunction('convertToInteractive',\n",
              "                                                     [key], {});\n",
              "          if (!dataTable) return;\n",
              "\n",
              "          const docLinkHtml = 'Like what you see? Visit the ' +\n",
              "            '<a target=\"_blank\" href=https://colab.research.google.com/notebooks/data_table.ipynb>data table notebook</a>'\n",
              "            + ' to learn more about interactive tables.';\n",
              "          element.innerHTML = '';\n",
              "          dataTable['output_type'] = 'display_data';\n",
              "          await google.colab.output.renderOutput(dataTable, element);\n",
              "          const docLink = document.createElement('div');\n",
              "          docLink.innerHTML = docLinkHtml;\n",
              "          element.appendChild(docLink);\n",
              "        }\n",
              "      </script>\n",
              "    </div>\n",
              "  </div>\n",
              "  "
            ]
          },
          "metadata": {},
          "execution_count": 165
        }
      ]
    },
    {
      "cell_type": "code",
      "source": [
        "model_loss.plot(figsize=(12,5))"
      ],
      "metadata": {
        "colab": {
          "base_uri": "https://localhost:8080/",
          "height": 337
        },
        "id": "FrRwwWOVw3GH",
        "outputId": "2e0b38db-5fce-4fd9-b22b-7e0691c9f055"
      },
      "execution_count": 166,
      "outputs": [
        {
          "output_type": "execute_result",
          "data": {
            "text/plain": [
              "<matplotlib.axes._subplots.AxesSubplot at 0x7fbd760f55d0>"
            ]
          },
          "metadata": {},
          "execution_count": 166
        },
        {
          "output_type": "display_data",
          "data": {
            "text/plain": [
              "<Figure size 864x360 with 1 Axes>"
            ],
            "image/png": "[encoded data removed]"
          },
          "metadata": {
            "needs_background": "light"
          }
        }
      ]
    },
    {
      "cell_type": "code",
      "source": [
        "ANN_pred = (model.predict(X_test) >= 0.5).astype(\"int32\")"
      ],
      "metadata": {
        "colab": {
          "base_uri": "https://localhost:8080/"
        },
        "id": "EuCCNWSSw3Jp",
        "outputId": "18d75b99-e788-451d-d865-25b0dda2b5fd"
      },
      "execution_count": 173,
      "outputs": [
        {
          "output_type": "stream",
          "name": "stdout",
          "text": [
            "2/2 [==============================] - 0s 6ms/step\n"
          ]
        }
      ]
    },
    {
      "cell_type": "code",
      "source": [
        "print(classification_report(y_test,ANN_pred))\n",
        "print(confusion_matrix(y_test,ANN_pred))"
      ],
      "metadata": {
        "colab": {
          "base_uri": "https://localhost:8080/"
        },
        "id": "UA-4BTgiw3NP",
        "outputId": "42024b05-d80f-4086-d69c-52e423f6378e"
      },
      "execution_count": 174,
      "outputs": [
        {
          "output_type": "stream",
          "name": "stdout",
          "text": [
            "              precision    recall  f1-score   support\n",
            "\n",
            "           0       0.91      0.67      0.77        15\n",
            "           1       0.90      0.98      0.93        44\n",
            "\n",
            "    accuracy                           0.90        59\n",
            "   macro avg       0.90      0.82      0.85        59\n",
            "weighted avg       0.90      0.90      0.89        59\n",
            "\n",
            "[[10  5]\n",
            " [ 1 43]]\n"
          ]
        }
      ]
    },
    {
      "cell_type": "markdown",
      "source": [
        "The artificial neural network performs very well on this data set, giving a 90% accuracy on the diagnostic predictions. There is only 1 false negative "
      ],
      "metadata": {
        "id": "hLaKIAa5zxhT"
      }
    },
    {
      "cell_type": "code",
      "source": [
        "X=data.drop('status',axis=1)\n",
        "y=data['status']\n",
        "rand_generator = np.random.randint(0,len(X)-1)\n",
        "new_pred = scaler.transform(X.iloc[[rand_generator]]) #using double brackets for the iloc[[x]] returns a pandas DataFrame and not a Series.\n",
        "actual = y[rand_generator] \n",
        "print('Compare Random Prediction with Actual Value\\nPrediction:', rfc1.predict(new_pred)[0],'\\nActual:    ',actual)"
      ],
      "metadata": {
        "colab": {
          "base_uri": "https://localhost:8080/"
        },
        "id": "iUVft_smw3PB",
        "outputId": "49d36eb6-a524-420b-a688-7daa6b6650b8"
      },
      "execution_count": 226,
      "outputs": [
        {
          "output_type": "stream",
          "name": "stdout",
          "text": [
            "Compare Random Prediction with Actual Value\n",
            "Prediction: 1 \n",
            "Actual:     1\n"
          ]
        }
      ]
    },
    {
      "cell_type": "markdown",
      "source": [
        "### Conclusion\n",
        "In this project we have considered a number of machine learning models applied to the detection of Parkinson's Disease using a data set with 22 feature variables. The best models for the application were tree ensemble methods, including random forest classifier and xgboost classifier models. Both of these models gave a predictive accuracy of 93% and resulted in zero false negative predictions. It is very important to avoid false negatives in models for disease diagnosis, since it is far better to conduct an unnecessary screening than to falsely diagnose the patient as healthy when they actually have the disease. The current study shows the power of machine learning as a diagnostic tool to aid clinicians in their diagnosis of Parkinson's Disease."
      ],
      "metadata": {
        "id": "MrrOoL-h5FG6"
      }
    }
  ]
}